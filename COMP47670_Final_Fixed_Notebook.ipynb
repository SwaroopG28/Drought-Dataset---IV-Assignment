{
 "cells": [
  {
   "cell_type": "markdown",
   "id": "00cb82db",
   "metadata": {},
   "source": [
    "# COMP41680/COMP4760 Class Test\n",
    "\n",
    "This test involves analysing store product sales data from different retail stores. **Complete all three tasks. All tasks carry equal marks.**\n",
    "\n",
    "The data is stored in CSV format, with the following fields:\n",
    "\n",
    "- *date*: the date on which product was sold\n",
    "- *category*: high-level category type of the product\n",
    "- *location*: store location where the product was sold\n",
    "- *amount*: the sale value in euros of the product"
   ]
  },
  {
   "cell_type": "code",
   "execution_count": null,
   "id": "44a57d61",
   "metadata": {},
   "outputs": [],
   "source": [
    "import numpy as np\n",
    "import pandas as pd\n",
    "import matplotlib\n",
    "import matplotlib.pyplot as plt\n",
    "%matplotlib inline"
   ]
  },
  {
   "cell_type": "markdown",
   "id": "e8e365bb",
   "metadata": {},
   "source": [
    "## Task 1: Data Loading and Initial Characterisation"
   ]
  },
  {
   "cell_type": "markdown",
   "id": "ff3e46be",
   "metadata": {},
   "source": [
    "**(a)** URL for data.\n",
    "\n",
    "http://mlg.ucd.ie/modules/python/test/retail.csv   \n",
    "or simple load the file `retail.csv`"
   ]
  },
  {
   "cell_type": "code",
   "execution_count": null,
   "id": "7bb05110",
   "metadata": {},
   "outputs": [],
   "source": [
    "import pandas as pd\n",
    "import matplotlib.pyplot as plt\n",
    "import seaborn as sns\n",
    "%matplotlib inline\n",
    "\n",
    "# Load the retail dataset from CSV\n",
    "df = pd.read_csv('retail.csv')\n",
    "print(df.head())"
   ]
  },
  {
   "cell_type": "code",
   "execution_count": null,
   "id": "9c83acd2",
   "metadata": {},
   "outputs": [],
   "source": []
  },
  {
   "cell_type": "code",
   "execution_count": null,
   "id": "dd2d9a2b",
   "metadata": {},
   "outputs": [],
   "source": [
    "plt.figure(figsize=(8, 6))\n",
    "plt.hist(df['amount'], bins=30, color='teal', edgecolor='black')\n",
    "plt.title('Distribution of Sale Amount Values')\n",
    "plt.xlabel('Sale Amount')\n",
    "plt.ylabel('Frequency')\n",
    "plt.show()"
   ]
  },
  {
   "cell_type": "markdown",
   "id": "4d46fa5d",
   "metadata": {},
   "source": [
    "**(b)** "
   ]
  },
  {
   "cell_type": "code",
   "execution_count": null,
   "id": "1e29e8ef",
   "metadata": {},
   "outputs": [],
   "source": [
    "# Sales by category\n",
    "category_sales = df['category'].value_counts()\n",
    "colors = sns.color_palette('Set2', len(category_sales))\n",
    "category_sales.plot(kind='bar', color=colors)\n",
    "plt.title('Number of Sales by Category')\n",
    "plt.ylabel('Count')\n",
    "plt.show()\n",
    "\n",
    "# Sales by location\n",
    "location_sales = df['location'].value_counts()\n",
    "colors = sns.color_palette('coolwarm', len(location_sales))\n",
    "location_sales.plot(kind='bar', color=colors)\n",
    "plt.title('Number of Sales by Location')\n",
    "plt.ylabel('Count')\n",
    "plt.show()"
   ]
  },
  {
   "cell_type": "code",
   "execution_count": null,
   "id": "d48d96c6",
   "metadata": {},
   "outputs": [],
   "source": []
  },
  {
   "cell_type": "code",
   "execution_count": null,
   "id": "8ffc10c3",
   "metadata": {},
   "outputs": [],
   "source": [
    "total_sales_category = df.groupby('category')['amount'].sum()\n",
    "colors = sns.color_palette('husl', len(total_sales_category))\n",
    "total_sales_category.plot(kind='bar', color=colors)\n",
    "plt.title('Total Sales by Product Category')\n",
    "plt.ylabel('Total Sales (€)')\n",
    "plt.show()"
   ]
  },
  {
   "cell_type": "markdown",
   "id": "4d862b21",
   "metadata": {},
   "source": [
    "**(c)** "
   ]
  },
  {
   "cell_type": "code",
   "execution_count": null,
   "id": "419416d5",
   "metadata": {},
   "outputs": [],
   "source": [
    "total_sales_location = df.groupby('location')['amount'].sum()\n",
    "colors = sns.color_palette('viridis', len(total_sales_location))\n",
    "total_sales_location.plot(kind='bar', color=colors)\n",
    "plt.title('Total Sales by Location')\n",
    "plt.ylabel('Total Sales (€)')\n",
    "plt.show()"
   ]
  },
  {
   "cell_type": "code",
   "execution_count": null,
   "id": "d733fcce",
   "metadata": {},
   "outputs": [],
   "source": []
  },
  {
   "cell_type": "code",
   "execution_count": null,
   "id": "3b944d7b",
   "metadata": {},
   "outputs": [],
   "source": [
    "pivot_table = df.pivot_table(values='amount', index='location', columns='category', aggfunc='sum')\n",
    "sns.heatmap(pivot_table, annot=True, cmap='YlGnBu')\n",
    "plt.title('Sales Relationship Between Location and Category')\n",
    "plt.show()"
   ]
  },
  {
   "cell_type": "markdown",
   "id": "8fd63a83",
   "metadata": {},
   "source": [
    "## Task 2: Analysis of Feature Associations"
   ]
  },
  {
   "cell_type": "code",
   "execution_count": null,
   "id": "f8455585",
   "metadata": {},
   "outputs": [],
   "source": [
    "df['date'] = pd.to_datetime(df['date'])\n",
    "monthly_sales = df.groupby([df['date'].dt.to_period('M'), 'category'])['amount'].sum().unstack()\n",
    "monthly_sales.plot(figsize=(10, 6), colormap='tab10')\n",
    "plt.title('Monthly Sales by Category')\n",
    "plt.ylabel('Sales (€)')\n",
    "plt.show()"
   ]
  },
  {
   "cell_type": "markdown",
   "id": "4f1da450",
   "metadata": {},
   "source": [
    "**(a)** "
   ]
  },
  {
   "cell_type": "code",
   "execution_count": null,
   "id": "3311c189",
   "metadata": {},
   "outputs": [],
   "source": [
    "rolling_avg = monthly_sales.rolling(3).mean()\n",
    "rolling_avg.plot(figsize=(10, 6), linestyle='--', colormap='plasma')\n",
    "plt.title('3-Month Rolling Average Sales')\n",
    "plt.ylabel('Sales (€)')\n",
    "plt.show()"
   ]
  },
  {
   "cell_type": "code",
   "execution_count": null,
   "id": "4b75476d",
   "metadata": {},
   "outputs": [],
   "source": []
  },
  {
   "cell_type": "markdown",
   "id": "b5db22ec",
   "metadata": {},
   "source": [
    "**(b)**  \n"
   ]
  },
  {
   "cell_type": "code",
   "execution_count": null,
   "id": "7a9f51a4",
   "metadata": {},
   "outputs": [],
   "source": []
  },
  {
   "cell_type": "markdown",
   "id": "e3deff43",
   "metadata": {},
   "source": [
    "**(c)**  "
   ]
  },
  {
   "cell_type": "code",
   "execution_count": null,
   "id": "39b52953",
   "metadata": {},
   "outputs": [],
   "source": []
  },
  {
   "cell_type": "markdown",
   "id": "58545deb",
   "metadata": {},
   "source": [
    "## Task 3: Time Series Analysis"
   ]
  },
  {
   "cell_type": "markdown",
   "id": "6849fb25",
   "metadata": {},
   "source": [
    "**(a)** "
   ]
  },
  {
   "cell_type": "code",
   "execution_count": null,
   "id": "ae9b469e",
   "metadata": {},
   "outputs": [],
   "source": []
  },
  {
   "cell_type": "markdown",
   "id": "e184e44d",
   "metadata": {},
   "source": [
    "**(b)**  "
   ]
  },
  {
   "cell_type": "code",
   "execution_count": null,
   "id": "80a9b957",
   "metadata": {},
   "outputs": [],
   "source": []
  }
 ],
 "metadata": {
  "kernelspec": {
   "display_name": "Python 3 (ipykernel)",
   "language": "python",
   "name": "python3"
  },
  "language_info": {
   "codemirror_mode": {
    "name": "ipython",
    "version": 3
   },
   "file_extension": ".py",
   "mimetype": "text/x-python",
   "name": "python",
   "nbconvert_exporter": "python",
   "pygments_lexer": "ipython3",
   "version": "3.12.4"
  }
 },
 "nbformat": 4,
 "nbformat_minor": 5
}
